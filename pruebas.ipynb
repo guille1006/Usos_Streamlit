{
 "cells": [
  {
   "cell_type": "code",
   "execution_count": 9,
   "id": "5571ec4d",
   "metadata": {},
   "outputs": [],
   "source": [
    "import streamlit as st\n",
    "import pandas as pd\n",
    "import pydeck as pdk\n",
    "import matplotlib.pyplot as plt\n",
    "import matplotlib as mpl\n"
   ]
  },
  {
   "cell_type": "code",
   "execution_count": null,
   "id": "7f9bd46a",
   "metadata": {},
   "outputs": [
    {
     "name": "stderr",
     "output_type": "stream",
     "text": [
      "2025-07-19 11:49:47.813 WARNING streamlit.runtime.scriptrunner_utils.script_run_context: Thread 'MainThread': missing ScriptRunContext! This warning can be ignored when running in bare mode.\n",
      "2025-07-19 11:49:47.829 Thread 'MainThread': missing ScriptRunContext! This warning can be ignored when running in bare mode.\n"
     ]
    },
    {
     "name": "stderr",
     "output_type": "stream",
     "text": [
      "2025-07-19 11:49:48.377 \n",
      "  \u001b[33m\u001b[1mWarning:\u001b[0m to view this Streamlit app on a browser, run it with the following\n",
      "  command:\n",
      "\n",
      "    streamlit run C:\\Users\\Usuario\\AppData\\Roaming\\Python\\Python312\\site-packages\\ipykernel_launcher.py [ARGUMENTS]\n",
      "2025-07-19 11:49:48.377 Thread 'MainThread': missing ScriptRunContext! This warning can be ignored when running in bare mode.\n",
      "2025-07-19 11:49:48.377 Thread 'MainThread': missing ScriptRunContext! This warning can be ignored when running in bare mode.\n"
     ]
    },
    {
     "data": {
      "text/plain": [
       "DeltaGenerator()"
      ]
     },
     "execution_count": 6,
     "metadata": {},
     "output_type": "execute_result"
    }
   ],
   "source": [
    "v_max=100\n",
    "norm = plt.Normalize(vmin=0, vmax=v_max)\n",
    "cmap = plt.cm.plasma \n",
    "valor = 60\n",
    "color = cmap(norm(valor))   \n",
    "\n",
    "\n",
    "# Simulación de tus datos de rutas\n",
    "df = pd.DataFrame([\n",
    "    {\"from_lat\": 40.4168, \"from_lon\": -3.7038, \"to_lat\": 48.8566, \"to_lon\": 2.3522, \"width\":30},  # Madrid → París\n",
    "    {\"from_lat\": 51.5074, \"from_lon\": -0.1278, \"to_lat\": 40.7128, \"to_lon\": -74.0060, \"width\": 1}, # Londres → NYC\n",
    "])\n",
    "df[\"color\"] = df[\"width\"].apply(lambda x: [int(c*255) for c in cmap(norm(x))[:3]])\n",
    "\n",
    "\n",
    "\n"
   ]
  },
  {
   "cell_type": "code",
   "execution_count": 10,
   "id": "2bd318e8",
   "metadata": {},
   "outputs": [
    {
     "name": "stderr",
     "output_type": "stream",
     "text": [
      "C:\\Users\\Usuario\\AppData\\Local\\Temp\\ipykernel_19428\\2354723372.py:10: UserWarning: FigureCanvasAgg is non-interactive, and thus cannot be shown\n",
      "  plt.show()\n"
     ]
    }
   ],
   "source": [
    "fig, ax = plt.subplots(figsize=(6, 1))\n",
    "fig.subplots_adjust(bottom=0.5)\n",
    "\n",
    "# Crear la barra de colores horizontal\n",
    "cb1 = mpl.colorbar.ColorbarBase(ax, cmap=cmap,\n",
    "                               norm=norm,\n",
    "                               orientation='horizontal')\n",
    "\n",
    "ax.set_title('Escala de colores - plasma (0 a 100)')\n",
    "plt.show()"
   ]
  }
 ],
 "metadata": {
  "kernelspec": {
   "display_name": "Python 3",
   "language": "python",
   "name": "python3"
  },
  "language_info": {
   "codemirror_mode": {
    "name": "ipython",
    "version": 3
   },
   "file_extension": ".py",
   "mimetype": "text/x-python",
   "name": "python",
   "nbconvert_exporter": "python",
   "pygments_lexer": "ipython3",
   "version": "3.12.2"
  }
 },
 "nbformat": 4,
 "nbformat_minor": 5
}
